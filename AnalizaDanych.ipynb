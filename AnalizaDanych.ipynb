{
 "cells": [
  {
   "cell_type": "code",
   "id": "initial_id",
   "metadata": {
    "collapsed": true,
    "ExecuteTime": {
     "end_time": "2025-10-25T17:44:28.201028Z",
     "start_time": "2025-10-25T17:44:28.198672Z"
    }
   },
   "source": "import pandas as pd",
   "outputs": [],
   "execution_count": 2
  },
  {
   "metadata": {
    "ExecuteTime": {
     "end_time": "2025-10-25T17:44:28.226721Z",
     "start_time": "2025-10-25T17:44:28.212436Z"
    }
   },
   "cell_type": "code",
   "source": [
    "data = {\n",
    "    \"Imię\": [\"Ala\", \"Bartek\", \"Celina\"],\n",
    "    \"Wiek\": [22, 25, 20],\n",
    "    \"Ocena\": [4.5, 3.8, 5.0]\n",
    "}\n",
    "df = pd.DataFrame(data)\n",
    "display(df)\n",
    "print(df.describe())"
   ],
   "id": "908840c523379877",
   "outputs": [
    {
     "data": {
      "text/plain": [
       "     Imię  Wiek  Ocena\n",
       "0     Ala    22    4.5\n",
       "1  Bartek    25    3.8\n",
       "2  Celina    20    5.0"
      ],
      "text/html": [
       "<div>\n",
       "<style scoped>\n",
       "    .dataframe tbody tr th:only-of-type {\n",
       "        vertical-align: middle;\n",
       "    }\n",
       "\n",
       "    .dataframe tbody tr th {\n",
       "        vertical-align: top;\n",
       "    }\n",
       "\n",
       "    .dataframe thead th {\n",
       "        text-align: right;\n",
       "    }\n",
       "</style>\n",
       "<table border=\"1\" class=\"dataframe\">\n",
       "  <thead>\n",
       "    <tr style=\"text-align: right;\">\n",
       "      <th></th>\n",
       "      <th>Imię</th>\n",
       "      <th>Wiek</th>\n",
       "      <th>Ocena</th>\n",
       "    </tr>\n",
       "  </thead>\n",
       "  <tbody>\n",
       "    <tr>\n",
       "      <th>0</th>\n",
       "      <td>Ala</td>\n",
       "      <td>22</td>\n",
       "      <td>4.5</td>\n",
       "    </tr>\n",
       "    <tr>\n",
       "      <th>1</th>\n",
       "      <td>Bartek</td>\n",
       "      <td>25</td>\n",
       "      <td>3.8</td>\n",
       "    </tr>\n",
       "    <tr>\n",
       "      <th>2</th>\n",
       "      <td>Celina</td>\n",
       "      <td>20</td>\n",
       "      <td>5.0</td>\n",
       "    </tr>\n",
       "  </tbody>\n",
       "</table>\n",
       "</div>"
      ]
     },
     "metadata": {},
     "output_type": "display_data",
     "jetTransient": {
      "display_id": null
     }
    },
    {
     "name": "stdout",
     "output_type": "stream",
     "text": [
      "            Wiek     Ocena\n",
      "count   3.000000  3.000000\n",
      "mean   22.333333  4.433333\n",
      "std     2.516611  0.602771\n",
      "min    20.000000  3.800000\n",
      "25%    21.000000  4.150000\n",
      "50%    22.000000  4.500000\n",
      "75%    23.500000  4.750000\n",
      "max    25.000000  5.000000\n"
     ]
    }
   ],
   "execution_count": 3
  },
  {
   "metadata": {
    "ExecuteTime": {
     "end_time": "2025-10-25T17:47:12.785457Z",
     "start_time": "2025-10-25T17:47:12.779420Z"
    }
   },
   "cell_type": "code",
   "source": [
    "df['Rok Studiów'] = ['Pierwszy', 'Drugi', 'Trzeci']\n",
    "display(df)"
   ],
   "id": "ef42c5a27c6b52ac",
   "outputs": [
    {
     "data": {
      "text/plain": [
       "     Imię  Wiek  Ocena Rok Studiów\n",
       "0     Ala    22    4.5    Pierwszy\n",
       "1  Bartek    25    3.8       Drugi\n",
       "2  Celina    20    5.0      Trzeci"
      ],
      "text/html": [
       "<div>\n",
       "<style scoped>\n",
       "    .dataframe tbody tr th:only-of-type {\n",
       "        vertical-align: middle;\n",
       "    }\n",
       "\n",
       "    .dataframe tbody tr th {\n",
       "        vertical-align: top;\n",
       "    }\n",
       "\n",
       "    .dataframe thead th {\n",
       "        text-align: right;\n",
       "    }\n",
       "</style>\n",
       "<table border=\"1\" class=\"dataframe\">\n",
       "  <thead>\n",
       "    <tr style=\"text-align: right;\">\n",
       "      <th></th>\n",
       "      <th>Imię</th>\n",
       "      <th>Wiek</th>\n",
       "      <th>Ocena</th>\n",
       "      <th>Rok Studiów</th>\n",
       "    </tr>\n",
       "  </thead>\n",
       "  <tbody>\n",
       "    <tr>\n",
       "      <th>0</th>\n",
       "      <td>Ala</td>\n",
       "      <td>22</td>\n",
       "      <td>4.5</td>\n",
       "      <td>Pierwszy</td>\n",
       "    </tr>\n",
       "    <tr>\n",
       "      <th>1</th>\n",
       "      <td>Bartek</td>\n",
       "      <td>25</td>\n",
       "      <td>3.8</td>\n",
       "      <td>Drugi</td>\n",
       "    </tr>\n",
       "    <tr>\n",
       "      <th>2</th>\n",
       "      <td>Celina</td>\n",
       "      <td>20</td>\n",
       "      <td>5.0</td>\n",
       "      <td>Trzeci</td>\n",
       "    </tr>\n",
       "  </tbody>\n",
       "</table>\n",
       "</div>"
      ]
     },
     "metadata": {},
     "output_type": "display_data",
     "jetTransient": {
      "display_id": null
     }
    }
   ],
   "execution_count": 4
  },
  {
   "metadata": {
    "ExecuteTime": {
     "end_time": "2025-10-25T17:48:19.145052Z",
     "start_time": "2025-10-25T17:48:19.142065Z"
    }
   },
   "cell_type": "code",
   "source": [
    "srednia = df['Ocena'].mean()\n",
    "print(srednia)"
   ],
   "id": "da6332c61942e4e",
   "outputs": [
    {
     "name": "stdout",
     "output_type": "stream",
     "text": [
      "4.433333333333334\n"
     ]
    }
   ],
   "execution_count": 5
  },
  {
   "metadata": {
    "ExecuteTime": {
     "end_time": "2025-10-25T17:50:47.989984Z",
     "start_time": "2025-10-25T17:50:47.983328Z"
    }
   },
   "cell_type": "code",
   "source": [
    "wybrane = df[df['Ocena'] > 4 ]\n",
    "display(wybrane)"
   ],
   "id": "ed3e616d691c4b8f",
   "outputs": [
    {
     "data": {
      "text/plain": [
       "     Imię  Wiek  Ocena Rok Studiów\n",
       "0     Ala    22    4.5    Pierwszy\n",
       "2  Celina    20    5.0      Trzeci"
      ],
      "text/html": [
       "<div>\n",
       "<style scoped>\n",
       "    .dataframe tbody tr th:only-of-type {\n",
       "        vertical-align: middle;\n",
       "    }\n",
       "\n",
       "    .dataframe tbody tr th {\n",
       "        vertical-align: top;\n",
       "    }\n",
       "\n",
       "    .dataframe thead th {\n",
       "        text-align: right;\n",
       "    }\n",
       "</style>\n",
       "<table border=\"1\" class=\"dataframe\">\n",
       "  <thead>\n",
       "    <tr style=\"text-align: right;\">\n",
       "      <th></th>\n",
       "      <th>Imię</th>\n",
       "      <th>Wiek</th>\n",
       "      <th>Ocena</th>\n",
       "      <th>Rok Studiów</th>\n",
       "    </tr>\n",
       "  </thead>\n",
       "  <tbody>\n",
       "    <tr>\n",
       "      <th>0</th>\n",
       "      <td>Ala</td>\n",
       "      <td>22</td>\n",
       "      <td>4.5</td>\n",
       "      <td>Pierwszy</td>\n",
       "    </tr>\n",
       "    <tr>\n",
       "      <th>2</th>\n",
       "      <td>Celina</td>\n",
       "      <td>20</td>\n",
       "      <td>5.0</td>\n",
       "      <td>Trzeci</td>\n",
       "    </tr>\n",
       "  </tbody>\n",
       "</table>\n",
       "</div>"
      ]
     },
     "metadata": {},
     "output_type": "display_data",
     "jetTransient": {
      "display_id": null
     }
    }
   ],
   "execution_count": 10
  }
 ],
 "metadata": {
  "kernelspec": {
   "display_name": "Python 3",
   "language": "python",
   "name": "python3"
  },
  "language_info": {
   "codemirror_mode": {
    "name": "ipython",
    "version": 2
   },
   "file_extension": ".py",
   "mimetype": "text/x-python",
   "name": "python",
   "nbconvert_exporter": "python",
   "pygments_lexer": "ipython2",
   "version": "2.7.6"
  }
 },
 "nbformat": 4,
 "nbformat_minor": 5
}
