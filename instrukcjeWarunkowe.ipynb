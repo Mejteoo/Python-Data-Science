{
 "cells": [
  {
   "cell_type": "code",
   "execution_count": null,
   "id": "initial_id",
   "metadata": {
    "collapsed": true
   },
   "outputs": [],
   "source": [
    "temperature = 17\n",
    "if temperature > 25:\n",
    "    print(\"Ciepło\")\n",
    "elif temperature > 15:\n",
    "    print(\"W sam raz\")\n",
    "else:\n",
    "    print(\"Chłodno\")"
   ]
  },
  {
   "metadata": {
    "ExecuteTime": {
     "end_time": "2025-10-25T10:44:11.744490Z",
     "start_time": "2025-10-25T10:44:11.740695Z"
    }
   },
   "cell_type": "code",
   "source": [
    "i = 3\n",
    "if i % 2 == 0:\n",
    "    print(f'Liczba {i} jest parzysta')\n",
    "else:\n",
    "    print(f'Liczba {i} jest nieparzysta')"
   ],
   "id": "16426df1d23dd3a9",
   "outputs": [
    {
     "name": "stdout",
     "output_type": "stream",
     "text": [
      "Liczba 3 jest nieparzysta\n"
     ]
    }
   ],
   "execution_count": 2
  },
  {
   "metadata": {
    "ExecuteTime": {
     "end_time": "2025-10-25T10:48:26.752655Z",
     "start_time": "2025-10-25T10:48:26.748474Z"
    }
   },
   "cell_type": "code",
   "source": [
    "for p in range(1,11):\n",
    "    print(f'{p}')"
   ],
   "id": "60240ed65519be27",
   "outputs": [
    {
     "name": "stdout",
     "output_type": "stream",
     "text": [
      "1\n",
      "2\n",
      "3\n",
      "4\n",
      "5\n",
      "6\n",
      "7\n",
      "8\n",
      "9\n",
      "10\n"
     ]
    }
   ],
   "execution_count": 7
  },
  {
   "metadata": {
    "ExecuteTime": {
     "end_time": "2025-10-25T10:50:10.560993Z",
     "start_time": "2025-10-25T10:50:10.556967Z"
    }
   },
   "cell_type": "code",
   "source": [
    "t = 1\n",
    "while t <= 5:\n",
    "    print(t)\n",
    "    t += 1"
   ],
   "id": "e589bb5d11278caa",
   "outputs": [
    {
     "name": "stdout",
     "output_type": "stream",
     "text": [
      "1\n",
      "2\n",
      "3\n",
      "4\n",
      "5\n"
     ]
    }
   ],
   "execution_count": 13
  }
 ],
 "metadata": {
  "kernelspec": {
   "display_name": "Python 3",
   "language": "python",
   "name": "python3"
  },
  "language_info": {
   "codemirror_mode": {
    "name": "ipython",
    "version": 2
   },
   "file_extension": ".py",
   "mimetype": "text/x-python",
   "name": "python",
   "nbconvert_exporter": "python",
   "pygments_lexer": "ipython2",
   "version": "2.7.6"
  }
 },
 "nbformat": 4,
 "nbformat_minor": 5
}
