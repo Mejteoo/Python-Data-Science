{
 "cells": [
  {
   "cell_type": "code",
   "id": "initial_id",
   "metadata": {
    "collapsed": true,
    "ExecuteTime": {
     "end_time": "2025-10-25T17:41:16.943466Z",
     "start_time": "2025-10-25T17:41:15.561253Z"
    }
   },
   "source": [
    "import pandas as pd\n",
    "df = pd.read_csv('https://raw.githubusercontent.com/softhints/Pandas-Exercises-Projects/main/data/food_recipes.csv')"
   ],
   "outputs": [],
   "execution_count": 6
  },
  {
   "metadata": {
    "ExecuteTime": {
     "end_time": "2025-10-25T17:41:16.961359Z",
     "start_time": "2025-10-25T17:41:16.950411Z"
    }
   },
   "cell_type": "code",
   "source": "print(df.info())",
   "id": "a9374c4434674dde",
   "outputs": [
    {
     "name": "stdout",
     "output_type": "stream",
     "text": [
      "<class 'pandas.core.frame.DataFrame'>\n",
      "RangeIndex: 8009 entries, 0 to 8008\n",
      "Data columns (total 16 columns):\n",
      " #   Column         Non-Null Count  Dtype  \n",
      "---  ------         --------------  -----  \n",
      " 0   recipe_title   8009 non-null   object \n",
      " 1   url            8009 non-null   object \n",
      " 2   record_health  8009 non-null   object \n",
      " 3   vote_count     8009 non-null   int64  \n",
      " 4   rating         8009 non-null   float64\n",
      " 5   description    7994 non-null   object \n",
      " 6   cuisine        7943 non-null   object \n",
      " 7   course         7854 non-null   object \n",
      " 8   diet           7858 non-null   object \n",
      " 9   prep_time      7979 non-null   object \n",
      " 10  cook_time      7979 non-null   object \n",
      " 11  ingredients    7997 non-null   object \n",
      " 12  instructions   8009 non-null   object \n",
      " 13  author         8009 non-null   object \n",
      " 14  tags           7930 non-null   object \n",
      " 15  category       8009 non-null   object \n",
      "dtypes: float64(1), int64(1), object(14)\n",
      "memory usage: 1001.3+ KB\n",
      "None\n"
     ]
    }
   ],
   "execution_count": 7
  },
  {
   "metadata": {
    "ExecuteTime": {
     "end_time": "2025-10-25T17:41:16.998593Z",
     "start_time": "2025-10-25T17:41:16.967019Z"
    }
   },
   "cell_type": "code",
   "source": "print(df.describe(include='all'))",
   "id": "7f6ef572b8079432",
   "outputs": [
    {
     "name": "stdout",
     "output_type": "stream",
     "text": [
      "                                             recipe_title  \\\n",
      "count                                                8009   \n",
      "unique                                               8009   \n",
      "top     Roasted Peppers And Mushroom Tortilla Pizza Re...   \n",
      "freq                                                    1   \n",
      "mean                                                  NaN   \n",
      "std                                                   NaN   \n",
      "min                                                   NaN   \n",
      "25%                                                   NaN   \n",
      "50%                                                   NaN   \n",
      "75%                                                   NaN   \n",
      "max                                                   NaN   \n",
      "\n",
      "                                                      url record_health  \\\n",
      "count                                                8009          8009   \n",
      "unique                                               8009             1   \n",
      "top     https://www.archanaskitchen.com/roasted-pepper...          good   \n",
      "freq                                                    1          8009   \n",
      "mean                                                  NaN           NaN   \n",
      "std                                                   NaN           NaN   \n",
      "min                                                   NaN           NaN   \n",
      "25%                                                   NaN           NaN   \n",
      "50%                                                   NaN           NaN   \n",
      "75%                                                   NaN           NaN   \n",
      "max                                                   NaN           NaN   \n",
      "\n",
      "          vote_count       rating  \\\n",
      "count    8009.000000  8009.000000   \n",
      "unique           NaN          NaN   \n",
      "top              NaN          NaN   \n",
      "freq             NaN          NaN   \n",
      "mean     2268.004495     4.888621   \n",
      "std      3683.156570     0.077467   \n",
      "min        15.000000     3.175705   \n",
      "25%       494.000000     4.865031   \n",
      "50%      1050.000000     4.900553   \n",
      "75%      2487.000000     4.930000   \n",
      "max     80628.000000     5.000000   \n",
      "\n",
      "                                           description cuisine course  \\\n",
      "count                                             7994    7943   7854   \n",
      "unique                                            7989      77     13   \n",
      "top     If you like this recipe, try more recipes like  Indian  Lunch   \n",
      "freq                                                 6    1336   1925   \n",
      "mean                                               NaN     NaN    NaN   \n",
      "std                                                NaN     NaN    NaN   \n",
      "min                                                NaN     NaN    NaN   \n",
      "25%                                                NaN     NaN    NaN   \n",
      "50%                                                NaN     NaN    NaN   \n",
      "75%                                                NaN     NaN    NaN   \n",
      "max                                                NaN     NaN    NaN   \n",
      "\n",
      "              diet prep_time cook_time              ingredients  \\\n",
      "count         7858      7979      7979                     7997   \n",
      "unique          10        89        72                     7953   \n",
      "top     Vegetarian      10 M      30 M  गेहूं का आटा|नमक|तेल|घी   \n",
      "freq          5478      3137      1955                        3   \n",
      "mean           NaN       NaN       NaN                      NaN   \n",
      "std            NaN       NaN       NaN                      NaN   \n",
      "min            NaN       NaN       NaN                      NaN   \n",
      "25%            NaN       NaN       NaN                      NaN   \n",
      "50%            NaN       NaN       NaN                      NaN   \n",
      "75%            NaN       NaN       NaN                      NaN   \n",
      "max            NaN       NaN       NaN                      NaN   \n",
      "\n",
      "                                             instructions             author  \\\n",
      "count                                                8009               8009   \n",
      "unique                                               8009                328   \n",
      "top     To begin making the Roasted Peppers And Mushro...  Archana's Kitchen   \n",
      "freq                                                    1               2803   \n",
      "mean                                                  NaN                NaN   \n",
      "std                                                   NaN                NaN   \n",
      "min                                                   NaN                NaN   \n",
      "25%                                                   NaN                NaN   \n",
      "50%                                                   NaN                NaN   \n",
      "75%                                                   NaN                NaN   \n",
      "max                                                   NaN                NaN   \n",
      "\n",
      "                      tags       category  \n",
      "count                 7930           8009  \n",
      "unique                7029             99  \n",
      "top     Party Food Recipes  Sabzi Recipes  \n",
      "freq                    21           1051  \n",
      "mean                   NaN            NaN  \n",
      "std                    NaN            NaN  \n",
      "min                    NaN            NaN  \n",
      "25%                    NaN            NaN  \n",
      "50%                    NaN            NaN  \n",
      "75%                    NaN            NaN  \n",
      "max                    NaN            NaN  \n"
     ]
    }
   ],
   "execution_count": 8
  },
  {
   "metadata": {
    "ExecuteTime": {
     "end_time": "2025-10-25T17:41:17.012785Z",
     "start_time": "2025-10-25T17:41:17.004093Z"
    }
   },
   "cell_type": "code",
   "source": "print(df.isnull().sum())",
   "id": "1656cadd456eff53",
   "outputs": [
    {
     "name": "stdout",
     "output_type": "stream",
     "text": [
      "recipe_title       0\n",
      "url                0\n",
      "record_health      0\n",
      "vote_count         0\n",
      "rating             0\n",
      "description       15\n",
      "cuisine           66\n",
      "course           155\n",
      "diet             151\n",
      "prep_time         30\n",
      "cook_time         30\n",
      "ingredients       12\n",
      "instructions       0\n",
      "author             0\n",
      "tags              79\n",
      "category           0\n",
      "dtype: int64\n"
     ]
    }
   ],
   "execution_count": 9
  },
  {
   "metadata": {
    "ExecuteTime": {
     "end_time": "2025-10-25T17:41:17.066662Z",
     "start_time": "2025-10-25T17:41:17.018053Z"
    }
   },
   "cell_type": "code",
   "source": [
    "df_clean = df.drop_duplicates()\n",
    "print(df_clean.info())"
   ],
   "id": "4260b892ee7bfe",
   "outputs": [
    {
     "name": "stdout",
     "output_type": "stream",
     "text": [
      "<class 'pandas.core.frame.DataFrame'>\n",
      "RangeIndex: 8009 entries, 0 to 8008\n",
      "Data columns (total 16 columns):\n",
      " #   Column         Non-Null Count  Dtype  \n",
      "---  ------         --------------  -----  \n",
      " 0   recipe_title   8009 non-null   object \n",
      " 1   url            8009 non-null   object \n",
      " 2   record_health  8009 non-null   object \n",
      " 3   vote_count     8009 non-null   int64  \n",
      " 4   rating         8009 non-null   float64\n",
      " 5   description    7994 non-null   object \n",
      " 6   cuisine        7943 non-null   object \n",
      " 7   course         7854 non-null   object \n",
      " 8   diet           7858 non-null   object \n",
      " 9   prep_time      7979 non-null   object \n",
      " 10  cook_time      7979 non-null   object \n",
      " 11  ingredients    7997 non-null   object \n",
      " 12  instructions   8009 non-null   object \n",
      " 13  author         8009 non-null   object \n",
      " 14  tags           7930 non-null   object \n",
      " 15  category       8009 non-null   object \n",
      "dtypes: float64(1), int64(1), object(14)\n",
      "memory usage: 1001.3+ KB\n",
      "None\n"
     ]
    }
   ],
   "execution_count": 10
  },
  {
   "metadata": {
    "ExecuteTime": {
     "end_time": "2025-10-25T17:41:17.075837Z",
     "start_time": "2025-10-25T17:41:17.070976Z"
    }
   },
   "cell_type": "code",
   "source": "print(df_clean.head())",
   "id": "9c19cec08f3c85a8",
   "outputs": [
    {
     "name": "stdout",
     "output_type": "stream",
     "text": [
      "                                        recipe_title  \\\n",
      "0  Roasted Peppers And Mushroom Tortilla Pizza Re...   \n",
      "1  Thakkali Gotsu Recipe | Thakkali Curry | Spicy...   \n",
      "2               Spicy Grilled Pineapple Salsa Recipe   \n",
      "3     Karwar Style Dali Thoy Recipe - Toor dal Curry   \n",
      "4    Rajma Kofta In Milk And Poppy Seed Gravy Recipe   \n",
      "\n",
      "                                                 url record_health  \\\n",
      "0  https://www.archanaskitchen.com/roasted-pepper...          good   \n",
      "1  https://www.archanaskitchen.com/tomato-gotsu-r...          good   \n",
      "2  https://www.archanaskitchen.com/spicy-grilled-...          good   \n",
      "3  https://www.archanaskitchen.com/dali-thoy-reci...          good   \n",
      "4  https://www.archanaskitchen.com/rajma-kofta-in...          good   \n",
      "\n",
      "   vote_count    rating                                        description  \\\n",
      "0         434  4.958525   is a quicker version pizza to satisfy your cr...   \n",
      "1        3423  4.932223   also known as the   is a quick and easy to ma...   \n",
      "2        2091  4.945959  Spicy Grilled Pineapple Salsa is a simple reci...   \n",
      "3         990  4.888889  The   is a quintessential of Konkani dish whic...   \n",
      "4         345  4.828986  Koftas are traditional Indian recipes mostly w...   \n",
      "\n",
      "                cuisine     course                     diet prep_time  \\\n",
      "0               Mexican     Dinner               Vegetarian      15 M   \n",
      "1  South Indian Recipes      Lunch               Vegetarian      10 M   \n",
      "2               Mexican  Side Dish               Vegetarian      10 M   \n",
      "3     Coastal Karnataka  Side Dish  High Protein Vegetarian       5 M   \n",
      "4  North Indian Recipes  Side Dish  High Protein Vegetarian      20 M   \n",
      "\n",
      "  cook_time                                        ingredients  \\\n",
      "0      15 M  Tortillas|Extra Virgin Olive Oil|Garlic|Mozzar...   \n",
      "1      20 M  Sesame (Gingelly) Oil|Mustard seeds (Rai/ Kadu...   \n",
      "2       0 M  Extra Virgin Olive Oil|Pineapple|White onion|R...   \n",
      "3      20 M  Arhar dal (Split Toor Dal)|Turmeric powder (Ha...   \n",
      "4      30 M  Rajma (Large Kidney Beans)|Cashew nuts|Sultana...   \n",
      "\n",
      "                                        instructions             author  \\\n",
      "0  To begin making the Roasted Peppers And Mushro...  Divya Shivaraman    \n",
      "1  To begin making Tomato Gotsu Recipe/ Thakkali ...      Archana Doshi   \n",
      "2  To begin making the Spicy Grilled Pineapple Sa...  Archana's Kitchen   \n",
      "3  To prepare Karwar Style Dali Thoy Recipe (Toor...      Jyothi Rajesh   \n",
      "4  To begin making Rajma Kofta In Milk And Poppy ...        RUBY PATHAK   \n",
      "\n",
      "                                                tags              category  \n",
      "0  Party Food Recipes|Tea Party Recipes|Mushroom ...         Pizza Recipes  \n",
      "1  Vegetarian Recipes|Tomato Recipes|South Indian...  Indian Curry Recipes  \n",
      "2  Party Starter & Appetizer Recipes|Pineapple Re...       Mexican Recipes  \n",
      "3  Side Dish Recipes|South Indian Recipes|Indian ...  Indian Curry Recipes  \n",
      "4  Side Dish Recipes|Indian Lunch Recipes|Office ...         Kofta Recipes  \n"
     ]
    }
   ],
   "execution_count": 11
  }
 ],
 "metadata": {
  "kernelspec": {
   "display_name": "Python 3",
   "language": "python",
   "name": "python3"
  },
  "language_info": {
   "codemirror_mode": {
    "name": "ipython",
    "version": 2
   },
   "file_extension": ".py",
   "mimetype": "text/x-python",
   "name": "python",
   "nbconvert_exporter": "python",
   "pygments_lexer": "ipython2",
   "version": "2.7.6"
  }
 },
 "nbformat": 4,
 "nbformat_minor": 5
}
