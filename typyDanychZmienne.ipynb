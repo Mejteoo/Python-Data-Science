{
 "cells": [
  {
   "cell_type": "code",
   "id": "initial_id",
   "metadata": {
    "collapsed": true,
    "ExecuteTime": {
     "end_time": "2025-10-25T18:04:36.880317Z",
     "start_time": "2025-10-25T18:04:36.877463Z"
    }
   },
   "source": [
    "from locale import format_string\n",
    "\n",
    "print(\"Hello, data science\")"
   ],
   "outputs": [
    {
     "name": "stdout",
     "output_type": "stream",
     "text": [
      "Hello, data science\n"
     ]
    }
   ],
   "execution_count": 7
  },
  {
   "metadata": {
    "ExecuteTime": {
     "end_time": "2025-10-25T18:04:36.897029Z",
     "start_time": "2025-10-25T18:04:36.894942Z"
    }
   },
   "cell_type": "code",
   "source": [
    "a = 10\n",
    "b = 3.5\n",
    "c = \"Python\"\n",
    "d = True"
   ],
   "id": "46cee37055f69b4e",
   "outputs": [],
   "execution_count": 8
  },
  {
   "metadata": {
    "ExecuteTime": {
     "end_time": "2025-10-25T18:04:36.915027Z",
     "start_time": "2025-10-25T18:04:36.912343Z"
    }
   },
   "cell_type": "code",
   "source": "print(f\"Wartość a to {a}, a b to {b}\")",
   "id": "cf42b4aef6f6eae5",
   "outputs": [
    {
     "name": "stdout",
     "output_type": "stream",
     "text": [
      "Wartość a to 10, a b to 3.5\n"
     ]
    }
   ],
   "execution_count": 9
  },
  {
   "metadata": {
    "ExecuteTime": {
     "end_time": "2025-10-25T18:04:36.923547Z",
     "start_time": "2025-10-25T18:04:36.921057Z"
    }
   },
   "cell_type": "code",
   "source": [
    "dodawanie = a + b\n",
    "odejmowanie = a - b\n",
    "dzielenie = a / b\n",
    "potegowanie = a ** b"
   ],
   "id": "1ba5978e3414b724",
   "outputs": [],
   "execution_count": 10
  },
  {
   "metadata": {
    "ExecuteTime": {
     "end_time": "2025-10-25T18:04:36.938937Z",
     "start_time": "2025-10-25T18:04:36.936230Z"
    }
   },
   "cell_type": "code",
   "source": [
    "print(dodawanie)\n",
    "print(odejmowanie)\n",
    "print(dzielenie)\n",
    "print(potegowanie)"
   ],
   "id": "ac58f6865ee87677",
   "outputs": [
    {
     "name": "stdout",
     "output_type": "stream",
     "text": [
      "13.5\n",
      "6.5\n",
      "2.857142857142857\n",
      "3162.2776601683795\n"
     ]
    }
   ],
   "execution_count": 11
  },
  {
   "metadata": {},
   "cell_type": "code",
   "outputs": [],
   "execution_count": null,
   "source": [
    "print(type(a))\n",
    "print(type(b))\n",
    "print(type(c))\n",
    "print(type(d))"
   ],
   "id": "f887afb0e984f5ac"
  }
 ],
 "metadata": {
  "kernelspec": {
   "display_name": "Python 3",
   "language": "python",
   "name": "python3"
  },
  "language_info": {
   "codemirror_mode": {
    "name": "ipython",
    "version": 2
   },
   "file_extension": ".py",
   "mimetype": "text/x-python",
   "name": "python",
   "nbconvert_exporter": "python",
   "pygments_lexer": "ipython2",
   "version": "2.7.6"
  }
 },
 "nbformat": 4,
 "nbformat_minor": 5
}
