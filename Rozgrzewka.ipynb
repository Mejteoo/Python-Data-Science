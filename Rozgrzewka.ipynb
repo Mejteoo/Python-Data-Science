{
 "cells": [
  {
   "metadata": {},
   "cell_type": "markdown",
   "source": "Mateusz P Informatyka",
   "id": "700b6bcb19afef00"
  },
  {
   "metadata": {
    "ExecuteTime": {
     "end_time": "2025-10-25T10:51:27.803453Z",
     "start_time": "2025-10-25T10:51:27.799545Z"
    }
   },
   "cell_type": "code",
   "source": "print(\"Hello, Data Science!\")",
   "id": "3f32b0ccff17d5e6",
   "outputs": [
    {
     "name": "stdout",
     "output_type": "stream",
     "text": [
      "Hello, Data Science!\n"
     ]
    }
   ],
   "execution_count": 1
  }
 ],
 "metadata": {
  "kernelspec": {
   "display_name": "Python 3",
   "language": "python",
   "name": "python3"
  },
  "language_info": {
   "codemirror_mode": {
    "name": "ipython",
    "version": 2
   },
   "file_extension": ".py",
   "mimetype": "text/x-python",
   "name": "python",
   "nbconvert_exporter": "python",
   "pygments_lexer": "ipython2",
   "version": "2.7.6"
  }
 },
 "nbformat": 4,
 "nbformat_minor": 5
}
